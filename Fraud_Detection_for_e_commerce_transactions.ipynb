{
  "nbformat": 4,
  "nbformat_minor": 0,
  "metadata": {
    "colab": {
      "name": "Fraud Detection for e-commerce transactions.ipynb",
      "provenance": [],
      "collapsed_sections": []
    },
    "kernelspec": {
      "display_name": "Python 3",
      "language": "python",
      "name": "python3"
    },
    "language_info": {
      "codemirror_mode": {
        "name": "ipython",
        "version": 3
      },
      "file_extension": ".py",
      "mimetype": "text/x-python",
      "name": "python",
      "nbconvert_exporter": "python",
      "pygments_lexer": "ipython3",
      "version": "3.8.5"
    }
  },
  "cells": [
    {
      "cell_type": "markdown",
      "metadata": {
        "id": "ZG9aowqPZNun"
      },
      "source": [
        "## Frad Detection dataset EDA\n",
        "Author: Lakshmi Girija Mangipudi"
      ]
    },
    {
      "cell_type": "markdown",
      "metadata": {
        "id": "tjuZ8btjZNux"
      },
      "source": [
        "My observations:\n",
        "\n",
        "- No duplicate rows.\n",
        "- Columns 'purchase_time' and 'signup_time' have been converted to datetime data type.\n",
        "- Additional information like year, month, day of month, hour of day and week of year are extracted from both 'purchase_time' and 'signup_time'.\n",
        "- 'purchase_Month', 'purchase_WeekOfYear', 'signup_Month' have good correlation with target variable.\n",
        "- 'purchase_Month', 'purchase_WeekOfYear', 'signup_Month', 'signup_WeekOfYear' are highly correlated.\n",
        "- 'user_id' is unique (not required)\n",
        "- The columns 'purchase_id' and 'age' do not have much correlation with the target variable.\n",
        "- In this dataset, around 10% of the transactions are fraud.\n",
        "- Around 40% of fraud transactions were using Chrome browser.\n",
        "- The transactions from Ads and SEO have around 40% fraud transactions.\n",
        "- So, transactions using Chrome browser from Ads and Searches have 15% fraud transactions.\n",
        "- Both Male and Female are equally involved in frauds.\n",
        "- 40% of the fraudsters belong to United States"
      ]
    },
    {
      "cell_type": "markdown",
      "metadata": {
        "id": "2pNRWMkiZNuy"
      },
      "source": [
        "## Mapping IP address to Country"
      ]
    },
    {
      "cell_type": "code",
      "metadata": {
        "id": "f_Bily6cZNuz"
      },
      "source": [
        "import pandas as pd\n",
        "import matplotlib.pyplot as plt\n",
        "import seaborn as sns\n",
        "import numpy as np"
      ],
      "execution_count": null,
      "outputs": []
    },
    {
      "cell_type": "code",
      "metadata": {
        "id": "f2qWU_I4ZNu0"
      },
      "source": [
        "df = pd.read_csv('Fraud_Data.csv')\n",
        "ip_address = pd.read_csv(\"IpAddress_to_Country.csv\")"
      ],
      "execution_count": null,
      "outputs": []
    },
    {
      "cell_type": "code",
      "metadata": {
        "id": "eJxboek7ZNu0",
        "outputId": "7f432260-db19-45ad-8cd3-fcaef080e392"
      },
      "source": [
        "df.head(10)"
      ],
      "execution_count": null,
      "outputs": [
        {
          "output_type": "execute_result",
          "data": {
            "text/html": [
              "<div>\n",
              "<style scoped>\n",
              "    .dataframe tbody tr th:only-of-type {\n",
              "        vertical-align: middle;\n",
              "    }\n",
              "\n",
              "    .dataframe tbody tr th {\n",
              "        vertical-align: top;\n",
              "    }\n",
              "\n",
              "    .dataframe thead th {\n",
              "        text-align: right;\n",
              "    }\n",
              "</style>\n",
              "<table border=\"1\" class=\"dataframe\">\n",
              "  <thead>\n",
              "    <tr style=\"text-align: right;\">\n",
              "      <th></th>\n",
              "      <th>user_id</th>\n",
              "      <th>signup_time</th>\n",
              "      <th>purchase_time</th>\n",
              "      <th>purchase_value</th>\n",
              "      <th>device_id</th>\n",
              "      <th>source</th>\n",
              "      <th>browser</th>\n",
              "      <th>sex</th>\n",
              "      <th>age</th>\n",
              "      <th>ip_address</th>\n",
              "      <th>class</th>\n",
              "    </tr>\n",
              "  </thead>\n",
              "  <tbody>\n",
              "    <tr>\n",
              "      <th>0</th>\n",
              "      <td>22058</td>\n",
              "      <td>2015-02-24 22:55:49</td>\n",
              "      <td>2015-04-18 02:47:11</td>\n",
              "      <td>34</td>\n",
              "      <td>QVPSPJUOCKZAR</td>\n",
              "      <td>SEO</td>\n",
              "      <td>Chrome</td>\n",
              "      <td>M</td>\n",
              "      <td>39</td>\n",
              "      <td>7.327584e+08</td>\n",
              "      <td>0</td>\n",
              "    </tr>\n",
              "    <tr>\n",
              "      <th>1</th>\n",
              "      <td>333320</td>\n",
              "      <td>2015-06-07 20:39:50</td>\n",
              "      <td>2015-06-08 01:38:54</td>\n",
              "      <td>16</td>\n",
              "      <td>EOGFQPIZPYXFZ</td>\n",
              "      <td>Ads</td>\n",
              "      <td>Chrome</td>\n",
              "      <td>F</td>\n",
              "      <td>53</td>\n",
              "      <td>3.503114e+08</td>\n",
              "      <td>0</td>\n",
              "    </tr>\n",
              "    <tr>\n",
              "      <th>2</th>\n",
              "      <td>1359</td>\n",
              "      <td>2015-01-01 18:52:44</td>\n",
              "      <td>2015-01-01 18:52:45</td>\n",
              "      <td>15</td>\n",
              "      <td>YSSKYOSJHPPLJ</td>\n",
              "      <td>SEO</td>\n",
              "      <td>Opera</td>\n",
              "      <td>M</td>\n",
              "      <td>53</td>\n",
              "      <td>2.621474e+09</td>\n",
              "      <td>1</td>\n",
              "    </tr>\n",
              "    <tr>\n",
              "      <th>3</th>\n",
              "      <td>150084</td>\n",
              "      <td>2015-04-28 21:13:25</td>\n",
              "      <td>2015-05-04 13:54:50</td>\n",
              "      <td>44</td>\n",
              "      <td>ATGTXKYKUDUQN</td>\n",
              "      <td>SEO</td>\n",
              "      <td>Safari</td>\n",
              "      <td>M</td>\n",
              "      <td>41</td>\n",
              "      <td>3.840542e+09</td>\n",
              "      <td>0</td>\n",
              "    </tr>\n",
              "    <tr>\n",
              "      <th>4</th>\n",
              "      <td>221365</td>\n",
              "      <td>2015-07-21 07:09:52</td>\n",
              "      <td>2015-09-09 18:40:53</td>\n",
              "      <td>39</td>\n",
              "      <td>NAUITBZFJKHWW</td>\n",
              "      <td>Ads</td>\n",
              "      <td>Safari</td>\n",
              "      <td>M</td>\n",
              "      <td>45</td>\n",
              "      <td>4.155831e+08</td>\n",
              "      <td>0</td>\n",
              "    </tr>\n",
              "    <tr>\n",
              "      <th>5</th>\n",
              "      <td>159135</td>\n",
              "      <td>2015-05-21 06:03:03</td>\n",
              "      <td>2015-07-09 08:05:14</td>\n",
              "      <td>42</td>\n",
              "      <td>ALEYXFXINSXLZ</td>\n",
              "      <td>Ads</td>\n",
              "      <td>Chrome</td>\n",
              "      <td>M</td>\n",
              "      <td>18</td>\n",
              "      <td>2.809315e+09</td>\n",
              "      <td>0</td>\n",
              "    </tr>\n",
              "    <tr>\n",
              "      <th>6</th>\n",
              "      <td>50116</td>\n",
              "      <td>2015-08-01 22:40:52</td>\n",
              "      <td>2015-08-27 03:37:57</td>\n",
              "      <td>11</td>\n",
              "      <td>IWKVZHJOCLPUR</td>\n",
              "      <td>Ads</td>\n",
              "      <td>Chrome</td>\n",
              "      <td>F</td>\n",
              "      <td>19</td>\n",
              "      <td>3.987484e+09</td>\n",
              "      <td>0</td>\n",
              "    </tr>\n",
              "    <tr>\n",
              "      <th>7</th>\n",
              "      <td>360585</td>\n",
              "      <td>2015-04-06 07:35:45</td>\n",
              "      <td>2015-05-25 17:21:14</td>\n",
              "      <td>27</td>\n",
              "      <td>HPUCUYLMJBYFW</td>\n",
              "      <td>Ads</td>\n",
              "      <td>Opera</td>\n",
              "      <td>M</td>\n",
              "      <td>34</td>\n",
              "      <td>1.692459e+09</td>\n",
              "      <td>0</td>\n",
              "    </tr>\n",
              "    <tr>\n",
              "      <th>8</th>\n",
              "      <td>159045</td>\n",
              "      <td>2015-04-21 23:38:34</td>\n",
              "      <td>2015-06-02 14:01:54</td>\n",
              "      <td>30</td>\n",
              "      <td>ILXYDOZIHOOHT</td>\n",
              "      <td>SEO</td>\n",
              "      <td>IE</td>\n",
              "      <td>F</td>\n",
              "      <td>43</td>\n",
              "      <td>3.719094e+09</td>\n",
              "      <td>0</td>\n",
              "    </tr>\n",
              "    <tr>\n",
              "      <th>9</th>\n",
              "      <td>182338</td>\n",
              "      <td>2015-01-25 17:49:49</td>\n",
              "      <td>2015-03-23 23:05:42</td>\n",
              "      <td>62</td>\n",
              "      <td>NRFFPPHZYFUVC</td>\n",
              "      <td>Ads</td>\n",
              "      <td>IE</td>\n",
              "      <td>M</td>\n",
              "      <td>31</td>\n",
              "      <td>3.416747e+08</td>\n",
              "      <td>0</td>\n",
              "    </tr>\n",
              "  </tbody>\n",
              "</table>\n",
              "</div>"
            ],
            "text/plain": [
              "   user_id          signup_time        purchase_time  purchase_value  \\\n",
              "0    22058  2015-02-24 22:55:49  2015-04-18 02:47:11              34   \n",
              "1   333320  2015-06-07 20:39:50  2015-06-08 01:38:54              16   \n",
              "2     1359  2015-01-01 18:52:44  2015-01-01 18:52:45              15   \n",
              "3   150084  2015-04-28 21:13:25  2015-05-04 13:54:50              44   \n",
              "4   221365  2015-07-21 07:09:52  2015-09-09 18:40:53              39   \n",
              "5   159135  2015-05-21 06:03:03  2015-07-09 08:05:14              42   \n",
              "6    50116  2015-08-01 22:40:52  2015-08-27 03:37:57              11   \n",
              "7   360585  2015-04-06 07:35:45  2015-05-25 17:21:14              27   \n",
              "8   159045  2015-04-21 23:38:34  2015-06-02 14:01:54              30   \n",
              "9   182338  2015-01-25 17:49:49  2015-03-23 23:05:42              62   \n",
              "\n",
              "       device_id source browser sex  age    ip_address  class  \n",
              "0  QVPSPJUOCKZAR    SEO  Chrome   M   39  7.327584e+08      0  \n",
              "1  EOGFQPIZPYXFZ    Ads  Chrome   F   53  3.503114e+08      0  \n",
              "2  YSSKYOSJHPPLJ    SEO   Opera   M   53  2.621474e+09      1  \n",
              "3  ATGTXKYKUDUQN    SEO  Safari   M   41  3.840542e+09      0  \n",
              "4  NAUITBZFJKHWW    Ads  Safari   M   45  4.155831e+08      0  \n",
              "5  ALEYXFXINSXLZ    Ads  Chrome   M   18  2.809315e+09      0  \n",
              "6  IWKVZHJOCLPUR    Ads  Chrome   F   19  3.987484e+09      0  \n",
              "7  HPUCUYLMJBYFW    Ads   Opera   M   34  1.692459e+09      0  \n",
              "8  ILXYDOZIHOOHT    SEO      IE   F   43  3.719094e+09      0  \n",
              "9  NRFFPPHZYFUVC    Ads      IE   M   31  3.416747e+08      0  "
            ]
          },
          "metadata": {
            "tags": []
          },
          "execution_count": 5
        }
      ]
    },
    {
      "cell_type": "code",
      "metadata": {
        "id": "1M11nvaTZNu1"
      },
      "source": [
        "def get_country(ip):\n",
        "    for low,up in zip(ip_address.loc[:,\"lower_bound_ip_address\"],ip_address.loc[:,\"upper_bound_ip_address\"]):\n",
        "        if ip>=low:\n",
        "            if ip<=up:\n",
        "                country = ip_address[ip_address[\"lower_bound_ip_address\"]==low][\"country\"]\n",
        "                return str(country.values[0])\n",
        "        else:\n",
        "            return \"Others\""
      ],
      "execution_count": null,
      "outputs": []
    },
    {
      "cell_type": "code",
      "metadata": {
        "id": "CKDcarhFZNu2"
      },
      "source": [
        "country = []\n",
        "for ip in df[\"ip_address\"]:\n",
        "    count = get_country(ip)\n",
        "    country.append(count)"
      ],
      "execution_count": null,
      "outputs": []
    },
    {
      "cell_type": "code",
      "metadata": {
        "id": "N8q-ys3dZNu2"
      },
      "source": [
        "df[\"country\"] = country_names"
      ],
      "execution_count": null,
      "outputs": []
    },
    {
      "cell_type": "code",
      "metadata": {
        "id": "AKOu8cbYZNu3"
      },
      "source": [
        "df.head(10)"
      ],
      "execution_count": null,
      "outputs": []
    },
    {
      "cell_type": "code",
      "metadata": {
        "id": "BQuD6yUNZNu3"
      },
      "source": [
        "df.to_csv(\"Fraud_detection.csv\", index=False, header=True)"
      ],
      "execution_count": null,
      "outputs": []
    },
    {
      "cell_type": "markdown",
      "metadata": {
        "id": "dhMWqwvAZNu3"
      },
      "source": [
        "## EDA"
      ]
    },
    {
      "cell_type": "code",
      "metadata": {
        "colab": {
          "base_uri": "https://localhost:8080/"
        },
        "id": "oGiH4UcD6hj5",
        "outputId": "63befe08-f07a-4efd-c27f-1c8233e0be04"
      },
      "source": [
        "pip install xgboost"
      ],
      "execution_count": null,
      "outputs": [
        {
          "output_type": "stream",
          "text": [
            "Requirement already satisfied: xgboost in /usr/local/lib/python3.6/dist-packages (0.90)\n",
            "Requirement already satisfied: numpy in /usr/local/lib/python3.6/dist-packages (from xgboost) (1.19.5)\n",
            "Requirement already satisfied: scipy in /usr/local/lib/python3.6/dist-packages (from xgboost) (1.4.1)\n"
          ],
          "name": "stdout"
        }
      ]
    },
    {
      "cell_type": "code",
      "metadata": {
        "colab": {
          "base_uri": "https://localhost:8080/"
        },
        "id": "9aUKGappViSt",
        "outputId": "da8b58ff-5320-4d47-82ad-0b7fbb98edeb"
      },
      "source": [
        "pip install imblearn"
      ],
      "execution_count": null,
      "outputs": [
        {
          "output_type": "stream",
          "text": [
            "Requirement already satisfied: imblearn in /usr/local/lib/python3.6/dist-packages (0.0)\n",
            "Requirement already satisfied: imbalanced-learn in /usr/local/lib/python3.6/dist-packages (from imblearn) (0.4.3)\n",
            "Requirement already satisfied: scikit-learn>=0.20 in /usr/local/lib/python3.6/dist-packages (from imbalanced-learn->imblearn) (0.22.2.post1)\n",
            "Requirement already satisfied: numpy>=1.8.2 in /usr/local/lib/python3.6/dist-packages (from imbalanced-learn->imblearn) (1.19.5)\n",
            "Requirement already satisfied: scipy>=0.13.3 in /usr/local/lib/python3.6/dist-packages (from imbalanced-learn->imblearn) (1.4.1)\n",
            "Requirement already satisfied: joblib>=0.11 in /usr/local/lib/python3.6/dist-packages (from scikit-learn>=0.20->imbalanced-learn->imblearn) (1.0.0)\n"
          ],
          "name": "stdout"
        }
      ]
    },
    {
      "cell_type": "code",
      "metadata": {
        "id": "mhS0b1kGZNu4"
      },
      "source": [
        "import pandas as pd\n",
        "import numpy as np\n",
        "import seaborn as sns\n",
        "import matplotlib.pyplot as plt\n",
        "from pandas_profiling import ProfileReport\n",
        "from sklearn import preprocessing\n",
        "from sklearn.discriminant_analysis import LinearDiscriminantAnalysis as LDA\n",
        "from sklearn.decomposition import PCA\n",
        "from sklearn.metrics import accuracy_score, f1_score\n",
        "from sklearn.model_selection import train_test_split\n",
        "from sklearn.model_selection import GridSearchCV\n",
        "import random\n",
        "import pickle\n",
        "from sklearn.metrics import roc_auc_score"
      ],
      "execution_count": null,
      "outputs": []
    },
    {
      "cell_type": "code",
      "metadata": {
        "id": "DtjiXH571t9b",
        "colab": {
          "base_uri": "https://localhost:8080/"
        },
        "outputId": "9da6432d-4599-4499-b661-0ff29b8c05e1"
      },
      "source": [
        "from sklearn.linear_model import LogisticRegression\r\n",
        "from sklearn.tree import DecisionTreeClassifier\r\n",
        "from sklearn.naive_bayes import GaussianNB\r\n",
        "from sklearn.ensemble import RandomForestClassifier\r\n",
        "from sklearn.neighbors import KNeighborsClassifier\r\n",
        "from xgboost import XGBClassifier\r\n",
        "from imblearn.over_sampling import SMOTE\r\n",
        "from sklearn.preprocessing import StandardScaler"
      ],
      "execution_count": null,
      "outputs": [
        {
          "output_type": "stream",
          "text": [
            "/usr/local/lib/python3.6/dist-packages/sklearn/externals/six.py:31: FutureWarning: The module is deprecated in version 0.21 and will be removed in version 0.23 since we've dropped support for Python 2.7. Please rely on the official version of six (https://pypi.org/project/six/).\n",
            "  \"(https://pypi.org/project/six/).\", FutureWarning)\n",
            "/usr/local/lib/python3.6/dist-packages/sklearn/utils/deprecation.py:144: FutureWarning: The sklearn.neighbors.base module is  deprecated in version 0.22 and will be removed in version 0.24. The corresponding classes / functions should instead be imported from sklearn.neighbors. Anything that cannot be imported from sklearn.neighbors is now part of the private API.\n",
            "  warnings.warn(message, FutureWarning)\n"
          ],
          "name": "stderr"
        }
      ]
    },
    {
      "cell_type": "code",
      "metadata": {
        "id": "SHEqLmn-ZNu4"
      },
      "source": [
        "df = pd.read_csv(\"Fraud_detection.csv\", parse_dates=[\"signup_time\", \"purchase_time\"])\n",
        "rows, cols = df.shape"
      ],
      "execution_count": null,
      "outputs": []
    },
    {
      "cell_type": "code",
      "metadata": {
        "colab": {
          "base_uri": "https://localhost:8080/",
          "height": 309
        },
        "id": "9UYcJwGbZNu4",
        "outputId": "94601265-1588-4573-a4db-d70cb250f5a4"
      },
      "source": [
        "df.head()"
      ],
      "execution_count": null,
      "outputs": [
        {
          "output_type": "execute_result",
          "data": {
            "text/html": [
              "<div>\n",
              "<style scoped>\n",
              "    .dataframe tbody tr th:only-of-type {\n",
              "        vertical-align: middle;\n",
              "    }\n",
              "\n",
              "    .dataframe tbody tr th {\n",
              "        vertical-align: top;\n",
              "    }\n",
              "\n",
              "    .dataframe thead th {\n",
              "        text-align: right;\n",
              "    }\n",
              "</style>\n",
              "<table border=\"1\" class=\"dataframe\">\n",
              "  <thead>\n",
              "    <tr style=\"text-align: right;\">\n",
              "      <th></th>\n",
              "      <th>user_id</th>\n",
              "      <th>signup_time</th>\n",
              "      <th>purchase_time</th>\n",
              "      <th>purchase_value</th>\n",
              "      <th>device_id</th>\n",
              "      <th>source</th>\n",
              "      <th>browser</th>\n",
              "      <th>sex</th>\n",
              "      <th>age</th>\n",
              "      <th>ip_address</th>\n",
              "      <th>class</th>\n",
              "      <th>country</th>\n",
              "    </tr>\n",
              "  </thead>\n",
              "  <tbody>\n",
              "    <tr>\n",
              "      <th>0</th>\n",
              "      <td>22058</td>\n",
              "      <td>2015-02-24 22:55:49</td>\n",
              "      <td>2015-04-18 02:47:11</td>\n",
              "      <td>34</td>\n",
              "      <td>QVPSPJUOCKZAR</td>\n",
              "      <td>SEO</td>\n",
              "      <td>Chrome</td>\n",
              "      <td>M</td>\n",
              "      <td>39</td>\n",
              "      <td>7.327584e+08</td>\n",
              "      <td>0</td>\n",
              "      <td>Japan</td>\n",
              "    </tr>\n",
              "    <tr>\n",
              "      <th>1</th>\n",
              "      <td>333320</td>\n",
              "      <td>2015-06-07 20:39:50</td>\n",
              "      <td>2015-06-08 01:38:54</td>\n",
              "      <td>16</td>\n",
              "      <td>EOGFQPIZPYXFZ</td>\n",
              "      <td>Ads</td>\n",
              "      <td>Chrome</td>\n",
              "      <td>F</td>\n",
              "      <td>53</td>\n",
              "      <td>3.503114e+08</td>\n",
              "      <td>0</td>\n",
              "      <td>United States</td>\n",
              "    </tr>\n",
              "    <tr>\n",
              "      <th>2</th>\n",
              "      <td>1359</td>\n",
              "      <td>2015-01-01 18:52:44</td>\n",
              "      <td>2015-01-01 18:52:45</td>\n",
              "      <td>15</td>\n",
              "      <td>YSSKYOSJHPPLJ</td>\n",
              "      <td>SEO</td>\n",
              "      <td>Opera</td>\n",
              "      <td>M</td>\n",
              "      <td>53</td>\n",
              "      <td>2.621474e+09</td>\n",
              "      <td>1</td>\n",
              "      <td>United States</td>\n",
              "    </tr>\n",
              "    <tr>\n",
              "      <th>3</th>\n",
              "      <td>150084</td>\n",
              "      <td>2015-04-28 21:13:25</td>\n",
              "      <td>2015-05-04 13:54:50</td>\n",
              "      <td>44</td>\n",
              "      <td>ATGTXKYKUDUQN</td>\n",
              "      <td>SEO</td>\n",
              "      <td>Safari</td>\n",
              "      <td>M</td>\n",
              "      <td>41</td>\n",
              "      <td>3.840542e+09</td>\n",
              "      <td>0</td>\n",
              "      <td>None</td>\n",
              "    </tr>\n",
              "    <tr>\n",
              "      <th>4</th>\n",
              "      <td>221365</td>\n",
              "      <td>2015-07-21 07:09:52</td>\n",
              "      <td>2015-09-09 18:40:53</td>\n",
              "      <td>39</td>\n",
              "      <td>NAUITBZFJKHWW</td>\n",
              "      <td>Ads</td>\n",
              "      <td>Safari</td>\n",
              "      <td>M</td>\n",
              "      <td>45</td>\n",
              "      <td>4.155831e+08</td>\n",
              "      <td>0</td>\n",
              "      <td>United States</td>\n",
              "    </tr>\n",
              "  </tbody>\n",
              "</table>\n",
              "</div>"
            ],
            "text/plain": [
              "   user_id         signup_time  ... class        country\n",
              "0    22058 2015-02-24 22:55:49  ...     0          Japan\n",
              "1   333320 2015-06-07 20:39:50  ...     0  United States\n",
              "2     1359 2015-01-01 18:52:44  ...     1  United States\n",
              "3   150084 2015-04-28 21:13:25  ...     0           None\n",
              "4   221365 2015-07-21 07:09:52  ...     0  United States\n",
              "\n",
              "[5 rows x 12 columns]"
            ]
          },
          "metadata": {
            "tags": []
          },
          "execution_count": 26
        }
      ]
    },
    {
      "cell_type": "code",
      "metadata": {
        "colab": {
          "base_uri": "https://localhost:8080/"
        },
        "id": "QFleVqreTyvS",
        "outputId": "fd6e7c7b-db43-43fa-f8de-2d692a3d3587"
      },
      "source": [
        "df.signup_time.mean()"
      ],
      "execution_count": null,
      "outputs": [
        {
          "output_type": "execute_result",
          "data": {
            "text/plain": [
              "Timestamp('2015-04-20 00:56:09.511313920')"
            ]
          },
          "metadata": {
            "tags": []
          },
          "execution_count": 29
        }
      ]
    },
    {
      "cell_type": "code",
      "metadata": {
        "colab": {
          "base_uri": "https://localhost:8080/"
        },
        "id": "S94hkbjvT-fX",
        "outputId": "7b64c750-769b-4210-ba6c-fc24b3e88dd5"
      },
      "source": [
        "df.purchase_time.mean()"
      ],
      "execution_count": null,
      "outputs": [
        {
          "output_type": "execute_result",
          "data": {
            "text/plain": [
              "Timestamp('2015-06-16 02:56:38.759956736')"
            ]
          },
          "metadata": {
            "tags": []
          },
          "execution_count": 30
        }
      ]
    },
    {
      "cell_type": "code",
      "metadata": {
        "colab": {
          "base_uri": "https://localhost:8080/"
        },
        "id": "n-p7sHQXUnpm",
        "outputId": "e792ed14-a7ee-4c3b-bd92-13b1b99ac6b2"
      },
      "source": [
        "True in df.isna().sum()>0"
      ],
      "execution_count": null,
      "outputs": [
        {
          "output_type": "execute_result",
          "data": {
            "text/plain": [
              "False"
            ]
          },
          "metadata": {
            "tags": []
          },
          "execution_count": 34
        }
      ]
    },
    {
      "cell_type": "code",
      "metadata": {
        "colab": {
          "base_uri": "https://localhost:8080/"
        },
        "id": "WEfq9QB9H6tQ",
        "outputId": "17251eb8-d02b-4679-adbe-b0a7dc875f72"
      },
      "source": [
        "df.device_id.nunique()"
      ],
      "execution_count": null,
      "outputs": [
        {
          "output_type": "execute_result",
          "data": {
            "text/plain": [
              "137956"
            ]
          },
          "metadata": {
            "tags": []
          },
          "execution_count": 101
        }
      ]
    },
    {
      "cell_type": "code",
      "metadata": {
        "colab": {
          "base_uri": "https://localhost:8080/"
        },
        "id": "FqMURcK1Ilb0",
        "outputId": "98b6a4eb-c801-444a-d15b-ac10c22f03f7"
      },
      "source": [
        "df.country.nunique()"
      ],
      "execution_count": null,
      "outputs": [
        {
          "output_type": "execute_result",
          "data": {
            "text/plain": [
              "182"
            ]
          },
          "metadata": {
            "tags": []
          },
          "execution_count": 9
        }
      ]
    },
    {
      "cell_type": "code",
      "metadata": {
        "colab": {
          "base_uri": "https://localhost:8080/"
        },
        "id": "zvfKYBhCp5HG",
        "outputId": "c80e3c47-131d-4eca-d496-9689e1ba134e"
      },
      "source": [
        "df.source.unique()"
      ],
      "execution_count": null,
      "outputs": [
        {
          "output_type": "execute_result",
          "data": {
            "text/plain": [
              "array(['SEO', 'Ads', 'Direct'], dtype=object)"
            ]
          },
          "metadata": {
            "tags": []
          },
          "execution_count": 13
        }
      ]
    },
    {
      "cell_type": "code",
      "metadata": {
        "colab": {
          "base_uri": "https://localhost:8080/"
        },
        "id": "kTrqQLnpp6YZ",
        "outputId": "1c3d302b-85a7-466d-f5fd-e9fe6c4fd704"
      },
      "source": [
        "df.browser.unique()"
      ],
      "execution_count": null,
      "outputs": [
        {
          "output_type": "execute_result",
          "data": {
            "text/plain": [
              "array(['Chrome', 'Opera', 'Safari', 'IE', 'FireFox'], dtype=object)"
            ]
          },
          "metadata": {
            "tags": []
          },
          "execution_count": 14
        }
      ]
    },
    {
      "cell_type": "code",
      "metadata": {
        "colab": {
          "base_uri": "https://localhost:8080/"
        },
        "id": "32kZMCsGp9kn",
        "outputId": "ff246506-2aa2-47e5-e80f-c0c2b6f9ce7c"
      },
      "source": [
        "df.sex.unique()"
      ],
      "execution_count": null,
      "outputs": [
        {
          "output_type": "execute_result",
          "data": {
            "text/plain": [
              "array(['M', 'F'], dtype=object)"
            ]
          },
          "metadata": {
            "tags": []
          },
          "execution_count": 15
        }
      ]
    },
    {
      "cell_type": "code",
      "metadata": {
        "id": "XA0NQ18K6f1T"
      },
      "source": [
        "country = df.country.unique()"
      ],
      "execution_count": null,
      "outputs": []
    },
    {
      "cell_type": "code",
      "metadata": {
        "colab": {
          "base_uri": "https://localhost:8080/"
        },
        "id": "FrBMIis1NIsG",
        "outputId": "880202b7-9ee6-40e8-d8c2-06eac00b7ec4"
      },
      "source": [
        "df.isna().sum()"
      ],
      "execution_count": null,
      "outputs": [
        {
          "output_type": "execute_result",
          "data": {
            "text/plain": [
              "user_id           0\n",
              "signup_time       0\n",
              "purchase_time     0\n",
              "purchase_value    0\n",
              "device_id         0\n",
              "source            0\n",
              "browser           0\n",
              "sex               0\n",
              "age               0\n",
              "ip_address        0\n",
              "class             0\n",
              "country           0\n",
              "dtype: int64"
            ]
          },
          "metadata": {
            "tags": []
          },
          "execution_count": 16
        }
      ]
    },
    {
      "cell_type": "code",
      "metadata": {
        "colab": {
          "base_uri": "https://localhost:8080/",
          "height": 294
        },
        "id": "f2dG1YflZNu5",
        "outputId": "96cb4ed4-e760-425b-ad76-a8ac4100e131"
      },
      "source": [
        "df.describe()"
      ],
      "execution_count": null,
      "outputs": [
        {
          "output_type": "execute_result",
          "data": {
            "text/html": [
              "<div>\n",
              "<style scoped>\n",
              "    .dataframe tbody tr th:only-of-type {\n",
              "        vertical-align: middle;\n",
              "    }\n",
              "\n",
              "    .dataframe tbody tr th {\n",
              "        vertical-align: top;\n",
              "    }\n",
              "\n",
              "    .dataframe thead th {\n",
              "        text-align: right;\n",
              "    }\n",
              "</style>\n",
              "<table border=\"1\" class=\"dataframe\">\n",
              "  <thead>\n",
              "    <tr style=\"text-align: right;\">\n",
              "      <th></th>\n",
              "      <th>user_id</th>\n",
              "      <th>purchase_value</th>\n",
              "      <th>age</th>\n",
              "      <th>ip_address</th>\n",
              "      <th>class</th>\n",
              "    </tr>\n",
              "  </thead>\n",
              "  <tbody>\n",
              "    <tr>\n",
              "      <th>count</th>\n",
              "      <td>151112.000000</td>\n",
              "      <td>151112.000000</td>\n",
              "      <td>151112.000000</td>\n",
              "      <td>1.511120e+05</td>\n",
              "      <td>151112.000000</td>\n",
              "    </tr>\n",
              "    <tr>\n",
              "      <th>mean</th>\n",
              "      <td>200171.040970</td>\n",
              "      <td>36.935372</td>\n",
              "      <td>33.140704</td>\n",
              "      <td>2.152145e+09</td>\n",
              "      <td>0.093646</td>\n",
              "    </tr>\n",
              "    <tr>\n",
              "      <th>std</th>\n",
              "      <td>115369.285024</td>\n",
              "      <td>18.322762</td>\n",
              "      <td>8.617733</td>\n",
              "      <td>1.248497e+09</td>\n",
              "      <td>0.291336</td>\n",
              "    </tr>\n",
              "    <tr>\n",
              "      <th>min</th>\n",
              "      <td>2.000000</td>\n",
              "      <td>9.000000</td>\n",
              "      <td>18.000000</td>\n",
              "      <td>5.209350e+04</td>\n",
              "      <td>0.000000</td>\n",
              "    </tr>\n",
              "    <tr>\n",
              "      <th>25%</th>\n",
              "      <td>100642.500000</td>\n",
              "      <td>22.000000</td>\n",
              "      <td>27.000000</td>\n",
              "      <td>1.085934e+09</td>\n",
              "      <td>0.000000</td>\n",
              "    </tr>\n",
              "    <tr>\n",
              "      <th>50%</th>\n",
              "      <td>199958.000000</td>\n",
              "      <td>35.000000</td>\n",
              "      <td>33.000000</td>\n",
              "      <td>2.154770e+09</td>\n",
              "      <td>0.000000</td>\n",
              "    </tr>\n",
              "    <tr>\n",
              "      <th>75%</th>\n",
              "      <td>300054.000000</td>\n",
              "      <td>49.000000</td>\n",
              "      <td>39.000000</td>\n",
              "      <td>3.243258e+09</td>\n",
              "      <td>0.000000</td>\n",
              "    </tr>\n",
              "    <tr>\n",
              "      <th>max</th>\n",
              "      <td>400000.000000</td>\n",
              "      <td>154.000000</td>\n",
              "      <td>76.000000</td>\n",
              "      <td>4.294850e+09</td>\n",
              "      <td>1.000000</td>\n",
              "    </tr>\n",
              "  </tbody>\n",
              "</table>\n",
              "</div>"
            ],
            "text/plain": [
              "             user_id  purchase_value  ...    ip_address          class\n",
              "count  151112.000000   151112.000000  ...  1.511120e+05  151112.000000\n",
              "mean   200171.040970       36.935372  ...  2.152145e+09       0.093646\n",
              "std    115369.285024       18.322762  ...  1.248497e+09       0.291336\n",
              "min         2.000000        9.000000  ...  5.209350e+04       0.000000\n",
              "25%    100642.500000       22.000000  ...  1.085934e+09       0.000000\n",
              "50%    199958.000000       35.000000  ...  2.154770e+09       0.000000\n",
              "75%    300054.000000       49.000000  ...  3.243258e+09       0.000000\n",
              "max    400000.000000      154.000000  ...  4.294850e+09       1.000000\n",
              "\n",
              "[8 rows x 5 columns]"
            ]
          },
          "metadata": {
            "tags": []
          },
          "execution_count": 17
        }
      ]
    },
    {
      "cell_type": "code",
      "metadata": {
        "colab": {
          "base_uri": "https://localhost:8080/",
          "height": 171
        },
        "id": "QwH_7nNFZNu5",
        "outputId": "84d29f98-4691-4fdd-c1aa-71ea03821397"
      },
      "source": [
        "df.describe(include=['O'])"
      ],
      "execution_count": null,
      "outputs": [
        {
          "output_type": "execute_result",
          "data": {
            "text/html": [
              "<div>\n",
              "<style scoped>\n",
              "    .dataframe tbody tr th:only-of-type {\n",
              "        vertical-align: middle;\n",
              "    }\n",
              "\n",
              "    .dataframe tbody tr th {\n",
              "        vertical-align: top;\n",
              "    }\n",
              "\n",
              "    .dataframe thead th {\n",
              "        text-align: right;\n",
              "    }\n",
              "</style>\n",
              "<table border=\"1\" class=\"dataframe\">\n",
              "  <thead>\n",
              "    <tr style=\"text-align: right;\">\n",
              "      <th></th>\n",
              "      <th>device_id</th>\n",
              "      <th>source</th>\n",
              "      <th>browser</th>\n",
              "      <th>sex</th>\n",
              "      <th>country</th>\n",
              "    </tr>\n",
              "  </thead>\n",
              "  <tbody>\n",
              "    <tr>\n",
              "      <th>count</th>\n",
              "      <td>151112</td>\n",
              "      <td>151112</td>\n",
              "      <td>151112</td>\n",
              "      <td>151112</td>\n",
              "      <td>151112</td>\n",
              "    </tr>\n",
              "    <tr>\n",
              "      <th>unique</th>\n",
              "      <td>137956</td>\n",
              "      <td>3</td>\n",
              "      <td>5</td>\n",
              "      <td>2</td>\n",
              "      <td>182</td>\n",
              "    </tr>\n",
              "    <tr>\n",
              "      <th>top</th>\n",
              "      <td>ZUSVMDEZRBDTX</td>\n",
              "      <td>SEO</td>\n",
              "      <td>Chrome</td>\n",
              "      <td>M</td>\n",
              "      <td>United States</td>\n",
              "    </tr>\n",
              "    <tr>\n",
              "      <th>freq</th>\n",
              "      <td>20</td>\n",
              "      <td>60615</td>\n",
              "      <td>61432</td>\n",
              "      <td>88293</td>\n",
              "      <td>58049</td>\n",
              "    </tr>\n",
              "  </tbody>\n",
              "</table>\n",
              "</div>"
            ],
            "text/plain": [
              "            device_id  source browser     sex        country\n",
              "count          151112  151112  151112  151112         151112\n",
              "unique         137956       3       5       2            182\n",
              "top     ZUSVMDEZRBDTX     SEO  Chrome       M  United States\n",
              "freq               20   60615   61432   88293          58049"
            ]
          },
          "metadata": {
            "tags": []
          },
          "execution_count": 18
        }
      ]
    },
    {
      "cell_type": "code",
      "metadata": {
        "colab": {
          "base_uri": "https://localhost:8080/"
        },
        "id": "0VeVzWR8ZNu6",
        "outputId": "a03d4250-c69e-4638-d0b6-a4bb2d698a0a"
      },
      "source": [
        "# no dulicates\n",
        "df.duplicated().sum()\n",
        "# df.drop_duplicates(inplace=True)"
      ],
      "execution_count": null,
      "outputs": [
        {
          "output_type": "execute_result",
          "data": {
            "text/plain": [
              "0"
            ]
          },
          "metadata": {
            "tags": []
          },
          "execution_count": 19
        }
      ]
    },
    {
      "cell_type": "code",
      "metadata": {
        "colab": {
          "base_uri": "https://localhost:8080/"
        },
        "id": "jBPvOzXCZNu6",
        "outputId": "aa23548d-3488-458c-dd03-fe7f2c17920c"
      },
      "source": [
        "# user ids are unique\n",
        "df.user_id.nunique() == rows"
      ],
      "execution_count": null,
      "outputs": [
        {
          "output_type": "execute_result",
          "data": {
            "text/plain": [
              "True"
            ]
          },
          "metadata": {
            "tags": []
          },
          "execution_count": 20
        }
      ]
    },
    {
      "cell_type": "code",
      "metadata": {
        "colab": {
          "base_uri": "https://localhost:8080/"
        },
        "id": "ILM049R4ZNu7",
        "outputId": "30193bf1-0ea1-4311-ab04-0a2a70fa89fc"
      },
      "source": [
        "# device ids are not unique\n",
        "df.device_id.nunique() == rows"
      ],
      "execution_count": null,
      "outputs": [
        {
          "output_type": "execute_result",
          "data": {
            "text/plain": [
              "False"
            ]
          },
          "metadata": {
            "tags": []
          },
          "execution_count": 21
        }
      ]
    },
    {
      "cell_type": "code",
      "metadata": {
        "id": "szhRfo_FZNu-"
      },
      "source": [
        "df['time_difference'] = (df[\"purchase_time\"] - df[\"signup_time\"])/np.timedelta64(1,'D')"
      ],
      "execution_count": null,
      "outputs": []
    },
    {
      "cell_type": "code",
      "metadata": {
        "colab": {
          "base_uri": "https://localhost:8080/"
        },
        "id": "6_43WNmqZNvT",
        "outputId": "fe257563-0b66-440e-e0e9-69aa3ce7cbef"
      },
      "source": [
        "print(\"Total fraud transactions: \", df['class'].sum())\n",
        "print(\"Total transactions: \", rows)\n",
        "# percentage of fraud\n",
        "print(\"Percentage of fraud transactions: \", (df['class'].sum()/rows)*100)"
      ],
      "execution_count": null,
      "outputs": [
        {
          "output_type": "stream",
          "text": [
            "Total fraud transactions:  14151\n",
            "Total transactions:  151112\n",
            "Percentage of fraud transactions:  9.364577267192546\n"
          ],
          "name": "stdout"
        }
      ]
    },
    {
      "cell_type": "code",
      "metadata": {
        "id": "hlL0obKDZNvU",
        "outputId": "c037fa69-42d1-4d8c-862b-7619611af9fe"
      },
      "source": [
        "# f = plt.figure(figsize=(50, 10))\n",
        "\n",
        "# distribution of age\n",
        "g = sns.FacetGrid(df, col='class')\n",
        "g.map(plt.hist, 'age', bins=20)"
      ],
      "execution_count": null,
      "outputs": [
        {
          "output_type": "execute_result",
          "data": {
            "text/plain": [
              "<seaborn.axisgrid.FacetGrid at 0x21745043ac0>"
            ]
          },
          "metadata": {
            "tags": []
          },
          "execution_count": 54
        },
        {
          "output_type": "display_data",
          "data": {
            "image/png": "[encoded data removed]",
            "text/plain": [
              "<Figure size 432x216 with 2 Axes>"
            ]
          },
          "metadata": {
            "tags": []
          }
        }
      ]
    },
    {
      "cell_type": "code",
      "metadata": {
        "id": "BZP7-e_WZNvV",
        "outputId": "67ea2520-c640-435b-c3cb-be0c78abeebc"
      },
      "source": [
        "g = sns.FacetGrid(df)\n",
        "g.map(plt.hist, 'purchase_value', bins=20)"
      ],
      "execution_count": null,
      "outputs": [
        {
          "output_type": "execute_result",
          "data": {
            "text/plain": [
              "<seaborn.axisgrid.FacetGrid at 0x21743bfcf40>"
            ]
          },
          "metadata": {
            "tags": []
          },
          "execution_count": 55
        },
        {
          "output_type": "display_data",
          "data": {
            "image/png": "[encoded data removed]",
            "text/plain": [
              "<Figure size 216x216 with 1 Axes>"
            ]
          },
          "metadata": {
            "tags": []
          }
        }
      ]
    },
    {
      "cell_type": "code",
      "metadata": {
        "id": "mZj_f0nhZNvV",
        "outputId": "7999b34d-b4dc-4fda-aa60-8f0b972543ba"
      },
      "source": [
        "# distribution of purchase value\n",
        "g = sns.FacetGrid(df, col='class')\n",
        "g.map(plt.hist, 'purchase_value', bins=20)"
      ],
      "execution_count": null,
      "outputs": [
        {
          "output_type": "execute_result",
          "data": {
            "text/plain": [
              "<seaborn.axisgrid.FacetGrid at 0x2174c5b6f40>"
            ]
          },
          "metadata": {
            "tags": []
          },
          "execution_count": 56
        },
        {
          "output_type": "display_data",
          "data": {
            "image/png": "[encoded data removed]",
            "text/plain": [
              "<Figure size 432x216 with 2 Axes>"
            ]
          },
          "metadata": {
            "tags": []
          }
        }
      ]
    },
    {
      "cell_type": "code",
      "metadata": {
        "id": "5J67v5lvZNvW",
        "outputId": "0460a97d-1b9f-448b-b7a6-cb84b34f5763"
      },
      "source": [
        "count = df['sex'].value_counts()\n",
        "print(\"Total of Female: \", count[1])\n",
        "print(\"Percentage of Female: \", (count[1]/rows)*100)\n",
        "print(\"Total of Male: \", count[0])\n",
        "print(\"Percentage of Male: \", (count[0]/rows)*100)"
      ],
      "execution_count": null,
      "outputs": [
        {
          "output_type": "stream",
          "text": [
            "Total of Female:  62819\n",
            "Percentage of Female:  41.57115252263222\n",
            "Total of Male:  88293\n",
            "Percentage of Male:  58.42884747736778\n"
          ],
          "name": "stdout"
        }
      ]
    },
    {
      "cell_type": "code",
      "metadata": {
        "id": "rhnJRMrPZNvW",
        "outputId": "80c43c69-f436-437c-d95c-fc77b816d5c5"
      },
      "source": [
        "total = pd.DataFrame(df.groupby(['sex'])['class'].sum())\n",
        "total['percentage'] = (total['class']/df[\"class\"].sum())*100\n",
        "total.drop('class', axis=1, inplace=True)\n",
        "total"
      ],
      "execution_count": null,
      "outputs": [
        {
          "output_type": "execute_result",
          "data": {
            "text/html": [
              "<div>\n",
              "<style scoped>\n",
              "    .dataframe tbody tr th:only-of-type {\n",
              "        vertical-align: middle;\n",
              "    }\n",
              "\n",
              "    .dataframe tbody tr th {\n",
              "        vertical-align: top;\n",
              "    }\n",
              "\n",
              "    .dataframe thead th {\n",
              "        text-align: right;\n",
              "    }\n",
              "</style>\n",
              "<table border=\"1\" class=\"dataframe\">\n",
              "  <thead>\n",
              "    <tr style=\"text-align: right;\">\n",
              "      <th></th>\n",
              "      <th>percentage</th>\n",
              "    </tr>\n",
              "    <tr>\n",
              "      <th>sex</th>\n",
              "      <th></th>\n",
              "    </tr>\n",
              "  </thead>\n",
              "  <tbody>\n",
              "    <tr>\n",
              "      <th>F</th>\n",
              "      <td>40.399972</td>\n",
              "    </tr>\n",
              "    <tr>\n",
              "      <th>M</th>\n",
              "      <td>59.600028</td>\n",
              "    </tr>\n",
              "  </tbody>\n",
              "</table>\n",
              "</div>"
            ],
            "text/plain": [
              "     percentage\n",
              "sex            \n",
              "F     40.399972\n",
              "M     59.600028"
            ]
          },
          "metadata": {
            "tags": []
          },
          "execution_count": 58
        }
      ]
    },
    {
      "cell_type": "code",
      "metadata": {
        "id": "iEsIRMgXZNvX",
        "outputId": "508133fc-ef41-4c07-a3a0-66dfeac50854"
      },
      "source": [
        "# percentage of fraud for each browser\n",
        "browser = pd.DataFrame(df.groupby(['browser'])[\"class\"].sum())\n",
        "browser['percentage'] = (browser['class']/df[\"class\"].sum())*100\n",
        "browser.drop('class', axis=1, inplace=True)\n",
        "browser"
      ],
      "execution_count": null,
      "outputs": [
        {
          "output_type": "execute_result",
          "data": {
            "text/html": [
              "<div>\n",
              "<style scoped>\n",
              "    .dataframe tbody tr th:only-of-type {\n",
              "        vertical-align: middle;\n",
              "    }\n",
              "\n",
              "    .dataframe tbody tr th {\n",
              "        vertical-align: top;\n",
              "    }\n",
              "\n",
              "    .dataframe thead th {\n",
              "        text-align: right;\n",
              "    }\n",
              "</style>\n",
              "<table border=\"1\" class=\"dataframe\">\n",
              "  <thead>\n",
              "    <tr style=\"text-align: right;\">\n",
              "      <th></th>\n",
              "      <th>percentage</th>\n",
              "    </tr>\n",
              "    <tr>\n",
              "      <th>browser</th>\n",
              "      <th></th>\n",
              "    </tr>\n",
              "  </thead>\n",
              "  <tbody>\n",
              "    <tr>\n",
              "      <th>Chrome</th>\n",
              "      <td>42.887428</td>\n",
              "    </tr>\n",
              "    <tr>\n",
              "      <th>FireFox</th>\n",
              "      <td>16.550067</td>\n",
              "    </tr>\n",
              "    <tr>\n",
              "      <th>IE</th>\n",
              "      <td>22.521377</td>\n",
              "    </tr>\n",
              "    <tr>\n",
              "      <th>Opera</th>\n",
              "      <td>2.317857</td>\n",
              "    </tr>\n",
              "    <tr>\n",
              "      <th>Safari</th>\n",
              "      <td>15.723270</td>\n",
              "    </tr>\n",
              "  </tbody>\n",
              "</table>\n",
              "</div>"
            ],
            "text/plain": [
              "         percentage\n",
              "browser            \n",
              "Chrome    42.887428\n",
              "FireFox   16.550067\n",
              "IE        22.521377\n",
              "Opera      2.317857\n",
              "Safari    15.723270"
            ]
          },
          "metadata": {
            "tags": []
          },
          "execution_count": 59
        }
      ]
    },
    {
      "cell_type": "code",
      "metadata": {
        "id": "jgG76IszZNvX",
        "outputId": "70b223a8-72ae-46cc-9258-f32a7fade15d"
      },
      "source": [
        "# percentage of fraud for each source\n",
        "source = pd.DataFrame(df.groupby(['source'])[\"class\"].sum())\n",
        "source['percentage'] = (source['class']/df[\"class\"].sum())*100\n",
        "source.drop('class', axis=1, inplace=True)\n",
        "source"
      ],
      "execution_count": null,
      "outputs": [
        {
          "output_type": "execute_result",
          "data": {
            "text/html": [
              "<div>\n",
              "<style scoped>\n",
              "    .dataframe tbody tr th:only-of-type {\n",
              "        vertical-align: middle;\n",
              "    }\n",
              "\n",
              "    .dataframe tbody tr th {\n",
              "        vertical-align: top;\n",
              "    }\n",
              "\n",
              "    .dataframe thead th {\n",
              "        text-align: right;\n",
              "    }\n",
              "</style>\n",
              "<table border=\"1\" class=\"dataframe\">\n",
              "  <thead>\n",
              "    <tr style=\"text-align: right;\">\n",
              "      <th></th>\n",
              "      <th>percentage</th>\n",
              "    </tr>\n",
              "    <tr>\n",
              "      <th>source</th>\n",
              "      <th></th>\n",
              "    </tr>\n",
              "  </thead>\n",
              "  <tbody>\n",
              "    <tr>\n",
              "      <th>Ads</th>\n",
              "      <td>38.958377</td>\n",
              "    </tr>\n",
              "    <tr>\n",
              "      <th>Direct</th>\n",
              "      <td>22.796975</td>\n",
              "    </tr>\n",
              "    <tr>\n",
              "      <th>SEO</th>\n",
              "      <td>38.244647</td>\n",
              "    </tr>\n",
              "  </tbody>\n",
              "</table>\n",
              "</div>"
            ],
            "text/plain": [
              "        percentage\n",
              "source            \n",
              "Ads      38.958377\n",
              "Direct   22.796975\n",
              "SEO      38.244647"
            ]
          },
          "metadata": {
            "tags": []
          },
          "execution_count": 60
        }
      ]
    },
    {
      "cell_type": "code",
      "metadata": {
        "id": "-BaldIiaZNvY",
        "outputId": "c0608b8c-70d0-4326-9e3c-5046ad256450"
      },
      "source": [
        "# percentage of fraud for each source and browser\n",
        "group = pd.DataFrame(df.groupby(['source', 'browser'])[\"class\"].sum())\n",
        "group['percentage'] = (group['class']/df[\"class\"].sum())*100\n",
        "group.drop('class', axis=1, inplace=True)\n",
        "group"
      ],
      "execution_count": null,
      "outputs": [
        {
          "output_type": "execute_result",
          "data": {
            "text/html": [
              "<div>\n",
              "<style scoped>\n",
              "    .dataframe tbody tr th:only-of-type {\n",
              "        vertical-align: middle;\n",
              "    }\n",
              "\n",
              "    .dataframe tbody tr th {\n",
              "        vertical-align: top;\n",
              "    }\n",
              "\n",
              "    .dataframe thead th {\n",
              "        text-align: right;\n",
              "    }\n",
              "</style>\n",
              "<table border=\"1\" class=\"dataframe\">\n",
              "  <thead>\n",
              "    <tr style=\"text-align: right;\">\n",
              "      <th></th>\n",
              "      <th></th>\n",
              "      <th>percentage</th>\n",
              "    </tr>\n",
              "    <tr>\n",
              "      <th>source</th>\n",
              "      <th>browser</th>\n",
              "      <th></th>\n",
              "    </tr>\n",
              "  </thead>\n",
              "  <tbody>\n",
              "    <tr>\n",
              "      <th rowspan=\"5\" valign=\"top\">Ads</th>\n",
              "      <th>Chrome</th>\n",
              "      <td>17.037665</td>\n",
              "    </tr>\n",
              "    <tr>\n",
              "      <th>FireFox</th>\n",
              "      <td>6.458907</td>\n",
              "    </tr>\n",
              "    <tr>\n",
              "      <th>IE</th>\n",
              "      <td>8.720232</td>\n",
              "    </tr>\n",
              "    <tr>\n",
              "      <th>Opera</th>\n",
              "      <td>0.706664</td>\n",
              "    </tr>\n",
              "    <tr>\n",
              "      <th>Safari</th>\n",
              "      <td>6.034909</td>\n",
              "    </tr>\n",
              "    <tr>\n",
              "      <th rowspan=\"5\" valign=\"top\">Direct</th>\n",
              "      <th>Chrome</th>\n",
              "      <td>10.607024</td>\n",
              "    </tr>\n",
              "    <tr>\n",
              "      <th>FireFox</th>\n",
              "      <td>3.088121</td>\n",
              "    </tr>\n",
              "    <tr>\n",
              "      <th>IE</th>\n",
              "      <td>5.292912</td>\n",
              "    </tr>\n",
              "    <tr>\n",
              "      <th>Opera</th>\n",
              "      <td>0.579464</td>\n",
              "    </tr>\n",
              "    <tr>\n",
              "      <th>Safari</th>\n",
              "      <td>3.229454</td>\n",
              "    </tr>\n",
              "    <tr>\n",
              "      <th rowspan=\"5\" valign=\"top\">SEO</th>\n",
              "      <th>Chrome</th>\n",
              "      <td>15.242739</td>\n",
              "    </tr>\n",
              "    <tr>\n",
              "      <th>FireFox</th>\n",
              "      <td>7.003039</td>\n",
              "    </tr>\n",
              "    <tr>\n",
              "      <th>IE</th>\n",
              "      <td>8.508233</td>\n",
              "    </tr>\n",
              "    <tr>\n",
              "      <th>Opera</th>\n",
              "      <td>1.031729</td>\n",
              "    </tr>\n",
              "    <tr>\n",
              "      <th>Safari</th>\n",
              "      <td>6.458907</td>\n",
              "    </tr>\n",
              "  </tbody>\n",
              "</table>\n",
              "</div>"
            ],
            "text/plain": [
              "                percentage\n",
              "source browser            \n",
              "Ads    Chrome    17.037665\n",
              "       FireFox    6.458907\n",
              "       IE         8.720232\n",
              "       Opera      0.706664\n",
              "       Safari     6.034909\n",
              "Direct Chrome    10.607024\n",
              "       FireFox    3.088121\n",
              "       IE         5.292912\n",
              "       Opera      0.579464\n",
              "       Safari     3.229454\n",
              "SEO    Chrome    15.242739\n",
              "       FireFox    7.003039\n",
              "       IE         8.508233\n",
              "       Opera      1.031729\n",
              "       Safari     6.458907"
            ]
          },
          "metadata": {
            "tags": []
          },
          "execution_count": 61
        }
      ]
    },
    {
      "cell_type": "code",
      "metadata": {
        "id": "OtKHoXMlZNvY",
        "outputId": "2cad1f22-19fc-4e1f-c554-d4454551cbe8"
      },
      "source": [
        "grid = sns.FacetGrid(df, row='source', size=2.2, aspect=1.6)\n",
        "grid.map(sns.pointplot, 'browser', 'class', 'sex', palette='deep')\n",
        "grid.add_legend()"
      ],
      "execution_count": null,
      "outputs": [
        {
          "output_type": "stream",
          "text": [
            "C:\\Users\\Sastry\\anaconda3\\lib\\site-packages\\seaborn\\axisgrid.py:316: UserWarning: The `size` parameter has been renamed to `height`; please update your code.\n",
            "  warnings.warn(msg, UserWarning)\n",
            "C:\\Users\\Sastry\\anaconda3\\lib\\site-packages\\seaborn\\axisgrid.py:645: UserWarning: Using the pointplot function without specifying `order` is likely to produce an incorrect plot.\n",
            "  warnings.warn(warning)\n",
            "C:\\Users\\Sastry\\anaconda3\\lib\\site-packages\\seaborn\\axisgrid.py:650: UserWarning: Using the pointplot function without specifying `hue_order` is likely to produce an incorrect plot.\n",
            "  warnings.warn(warning)\n"
          ],
          "name": "stderr"
        },
        {
          "output_type": "execute_result",
          "data": {
            "text/plain": [
              "<seaborn.axisgrid.FacetGrid at 0x217451c14f0>"
            ]
          },
          "metadata": {
            "tags": []
          },
          "execution_count": 62
        },
        {
          "output_type": "display_data",
          "data": {
            "image/png": "[encoded data removed]",
            "text/plain": [
              "<Figure size 298.065x475.2 with 3 Axes>"
            ]
          },
          "metadata": {
            "tags": []
          }
        }
      ]
    },
    {
      "cell_type": "code",
      "metadata": {
        "id": "1X1kopqJZNvY",
        "outputId": "ae316327-467e-41a3-cc09-2c71851e4cba"
      },
      "source": [
        "country = pd.DataFrame(df.groupby(['country'])[\"class\"].sum())\n",
        "country['percentage'] = (country['class']/df[\"class\"].sum())*100\n",
        "country.drop('class', axis=1, inplace=True)\n",
        "country.sort_values('percentage', ascending=False)[:10]"
      ],
      "execution_count": null,
      "outputs": [
        {
          "output_type": "execute_result",
          "data": {
            "text/html": [
              "<div>\n",
              "<style scoped>\n",
              "    .dataframe tbody tr th:only-of-type {\n",
              "        vertical-align: middle;\n",
              "    }\n",
              "\n",
              "    .dataframe tbody tr th {\n",
              "        vertical-align: top;\n",
              "    }\n",
              "\n",
              "    .dataframe thead th {\n",
              "        text-align: right;\n",
              "    }\n",
              "</style>\n",
              "<table border=\"1\" class=\"dataframe\">\n",
              "  <thead>\n",
              "    <tr style=\"text-align: right;\">\n",
              "      <th></th>\n",
              "      <th>percentage</th>\n",
              "    </tr>\n",
              "    <tr>\n",
              "      <th>country</th>\n",
              "      <th></th>\n",
              "    </tr>\n",
              "  </thead>\n",
              "  <tbody>\n",
              "    <tr>\n",
              "      <th>United States</th>\n",
              "      <td>39.226910</td>\n",
              "    </tr>\n",
              "    <tr>\n",
              "      <th>None</th>\n",
              "      <td>13.306480</td>\n",
              "    </tr>\n",
              "    <tr>\n",
              "      <th>China</th>\n",
              "      <td>7.370504</td>\n",
              "    </tr>\n",
              "    <tr>\n",
              "      <th>Japan</th>\n",
              "      <td>5.052646</td>\n",
              "    </tr>\n",
              "    <tr>\n",
              "      <th>United Kingdom</th>\n",
              "      <td>3.370787</td>\n",
              "    </tr>\n",
              "    <tr>\n",
              "      <th>Korea Republic of</th>\n",
              "      <td>2.685323</td>\n",
              "    </tr>\n",
              "    <tr>\n",
              "      <th>Canada</th>\n",
              "      <td>2.459190</td>\n",
              "    </tr>\n",
              "    <tr>\n",
              "      <th>France</th>\n",
              "      <td>2.119992</td>\n",
              "    </tr>\n",
              "    <tr>\n",
              "      <th>Brazil</th>\n",
              "      <td>1.907992</td>\n",
              "    </tr>\n",
              "    <tr>\n",
              "      <th>Germany</th>\n",
              "      <td>1.851459</td>\n",
              "    </tr>\n",
              "  </tbody>\n",
              "</table>\n",
              "</div>"
            ],
            "text/plain": [
              "                   percentage\n",
              "country                      \n",
              "United States       39.226910\n",
              "None                13.306480\n",
              "China                7.370504\n",
              "Japan                5.052646\n",
              "United Kingdom       3.370787\n",
              "Korea Republic of    2.685323\n",
              "Canada               2.459190\n",
              "France               2.119992\n",
              "Brazil               1.907992\n",
              "Germany              1.851459"
            ]
          },
          "metadata": {
            "tags": []
          },
          "execution_count": 63
        }
      ]
    },
    {
      "cell_type": "code",
      "metadata": {
        "id": "Lgh0d5fxZNvZ",
        "scrolled": true,
        "outputId": "73d2cd8a-1e5d-491a-8a66-37a0688ff279"
      },
      "source": [
        "device = pd.DataFrame(df.groupby(['device_id'])[\"class\"].sum())\n",
        "device['percentage'] = (device['class']/df[\"class\"].sum())*100\n",
        "device.drop('class', axis=1, inplace=True)\n",
        "device.sort_values('percentage', ascending=False)[:5]"
      ],
      "execution_count": null,
      "outputs": [
        {
          "output_type": "execute_result",
          "data": {
            "text/html": [
              "<div>\n",
              "<style scoped>\n",
              "    .dataframe tbody tr th:only-of-type {\n",
              "        vertical-align: middle;\n",
              "    }\n",
              "\n",
              "    .dataframe tbody tr th {\n",
              "        vertical-align: top;\n",
              "    }\n",
              "\n",
              "    .dataframe thead th {\n",
              "        text-align: right;\n",
              "    }\n",
              "</style>\n",
              "<table border=\"1\" class=\"dataframe\">\n",
              "  <thead>\n",
              "    <tr style=\"text-align: right;\">\n",
              "      <th></th>\n",
              "      <th>percentage</th>\n",
              "    </tr>\n",
              "    <tr>\n",
              "      <th>device_id</th>\n",
              "      <th></th>\n",
              "    </tr>\n",
              "  </thead>\n",
              "  <tbody>\n",
              "    <tr>\n",
              "      <th>NGQCKIADMZORL</th>\n",
              "      <td>0.134266</td>\n",
              "    </tr>\n",
              "    <tr>\n",
              "      <th>EQYVNEGOFLAWK</th>\n",
              "      <td>0.134266</td>\n",
              "    </tr>\n",
              "    <tr>\n",
              "      <th>CQTUVBYIWWWBC</th>\n",
              "      <td>0.134266</td>\n",
              "    </tr>\n",
              "    <tr>\n",
              "      <th>KIPFSCNUGOLDP</th>\n",
              "      <td>0.134266</td>\n",
              "    </tr>\n",
              "    <tr>\n",
              "      <th>ZUSVMDEZRBDTX</th>\n",
              "      <td>0.134266</td>\n",
              "    </tr>\n",
              "  </tbody>\n",
              "</table>\n",
              "</div>"
            ],
            "text/plain": [
              "               percentage\n",
              "device_id                \n",
              "NGQCKIADMZORL    0.134266\n",
              "EQYVNEGOFLAWK    0.134266\n",
              "CQTUVBYIWWWBC    0.134266\n",
              "KIPFSCNUGOLDP    0.134266\n",
              "ZUSVMDEZRBDTX    0.134266"
            ]
          },
          "metadata": {
            "tags": []
          },
          "execution_count": 64
        }
      ]
    },
    {
      "cell_type": "code",
      "metadata": {
        "id": "I7Mk0ggvZNvZ"
      },
      "source": [
        "# dropping unecessary columns\n",
        "df.drop([\"user_id\", \"ip_address\", \"purchase_time\", \"signup_time\", \"device_id\", \"purchase_value\"], axis=1, inplace=True)"
      ],
      "execution_count": null,
      "outputs": []
    },
    {
      "cell_type": "code",
      "metadata": {
        "colab": {
          "base_uri": "https://localhost:8080/"
        },
        "id": "5MMikaGbZNva",
        "outputId": "829d3c16-2b7b-440b-8805-ad507648d451"
      },
      "source": [
        "corr_matrix = df.corr()\n",
        "corr_matrix['class']"
      ],
      "execution_count": null,
      "outputs": [
        {
          "output_type": "execute_result",
          "data": {
            "text/plain": [
              "age                0.006624\n",
              "class              1.000000\n",
              "time_difference   -0.257888\n",
              "Name: class, dtype: float64"
            ]
          },
          "metadata": {
            "tags": []
          },
          "execution_count": 9
        }
      ]
    },
    {
      "cell_type": "code",
      "metadata": {
        "id": "HPjzRQsMZNvb"
      },
      "source": [
        "X = df.drop('class', axis=1)\n",
        "y = df['class']"
      ],
      "execution_count": null,
      "outputs": []
    },
    {
      "cell_type": "code",
      "metadata": {
        "colab": {
          "base_uri": "https://localhost:8080/"
        },
        "id": "VeNqQ05SZNvc",
        "outputId": "b1166617-685c-40a0-acff-14c8abe8e942"
      },
      "source": [
        "X.columns"
      ],
      "execution_count": null,
      "outputs": [
        {
          "output_type": "execute_result",
          "data": {
            "text/plain": [
              "Index(['source', 'browser', 'sex', 'age', 'country', 'time_difference'], dtype='object')"
            ]
          },
          "metadata": {
            "tags": []
          },
          "execution_count": 17
        }
      ]
    },
    {
      "cell_type": "code",
      "metadata": {
        "colab": {
          "base_uri": "https://localhost:8080/"
        },
        "id": "TQmyyrK9R0xY",
        "outputId": "5957d158-6589-4e96-f33f-2a275a2af2c7"
      },
      "source": [
        "X.source.mode()"
      ],
      "execution_count": null,
      "outputs": [
        {
          "output_type": "execute_result",
          "data": {
            "text/plain": [
              "0    SEO\n",
              "dtype: object"
            ]
          },
          "metadata": {
            "tags": []
          },
          "execution_count": 18
        }
      ]
    },
    {
      "cell_type": "code",
      "metadata": {
        "colab": {
          "base_uri": "https://localhost:8080/"
        },
        "id": "0btUzic9R9cB",
        "outputId": "efef923a-b320-46f6-a548-973d9ad92a03"
      },
      "source": [
        "X.browser.mode()"
      ],
      "execution_count": null,
      "outputs": [
        {
          "output_type": "execute_result",
          "data": {
            "text/plain": [
              "0    Chrome\n",
              "dtype: object"
            ]
          },
          "metadata": {
            "tags": []
          },
          "execution_count": 19
        }
      ]
    },
    {
      "cell_type": "code",
      "metadata": {
        "colab": {
          "base_uri": "https://localhost:8080/"
        },
        "id": "LbNwKhneSAfg",
        "outputId": "1b1c38e3-c98f-4515-e3e8-6468db9af83d"
      },
      "source": [
        "X.sex.mode()"
      ],
      "execution_count": null,
      "outputs": [
        {
          "output_type": "execute_result",
          "data": {
            "text/plain": [
              "0    M\n",
              "dtype: object"
            ]
          },
          "metadata": {
            "tags": []
          },
          "execution_count": 20
        }
      ]
    },
    {
      "cell_type": "code",
      "metadata": {
        "colab": {
          "base_uri": "https://localhost:8080/"
        },
        "id": "oEeKuwXySAkn",
        "outputId": "a1d9c0a2-ba32-41fc-a488-a5a883788690"
      },
      "source": [
        "X.age.mean()"
      ],
      "execution_count": null,
      "outputs": [
        {
          "output_type": "execute_result",
          "data": {
            "text/plain": [
              "33.14070358409656"
            ]
          },
          "metadata": {
            "tags": []
          },
          "execution_count": 21
        }
      ]
    },
    {
      "cell_type": "code",
      "metadata": {
        "colab": {
          "base_uri": "https://localhost:8080/"
        },
        "id": "ktE6nFpHSApk",
        "outputId": "13f34154-bc91-48ff-b1a7-93047936b804"
      },
      "source": [
        "X.country.mode()"
      ],
      "execution_count": null,
      "outputs": [
        {
          "output_type": "execute_result",
          "data": {
            "text/plain": [
              "0    United States\n",
              "dtype: object"
            ]
          },
          "metadata": {
            "tags": []
          },
          "execution_count": 22
        }
      ]
    },
    {
      "cell_type": "code",
      "metadata": {
        "colab": {
          "base_uri": "https://localhost:8080/"
        },
        "id": "OjST1ibxSH87",
        "outputId": "9869e4f2-6083-4a74-f15e-c0b49b874ab6"
      },
      "source": [
        "X.time_difference.median()"
      ],
      "execution_count": null,
      "outputs": [
        {
          "output_type": "execute_result",
          "data": {
            "text/plain": [
              "57.01788773148148"
            ]
          },
          "metadata": {
            "tags": []
          },
          "execution_count": 24
        }
      ]
    },
    {
      "cell_type": "markdown",
      "metadata": {
        "id": "if9cd4KO9jI2"
      },
      "source": [
        "## Handling Imbalanced data with SMOTE "
      ]
    },
    {
      "cell_type": "code",
      "metadata": {
        "id": "jZrUO67d-OTE"
      },
      "source": [
        "def smote(X_train, y_train):\r\n",
        "  sm = SMOTE(random_state=2)\r\n",
        "  X, y = sm.fit_sample(X_train, y_train.ravel())\r\n",
        "\r\n",
        "  return X, y"
      ],
      "execution_count": null,
      "outputs": []
    },
    {
      "cell_type": "markdown",
      "metadata": {
        "id": "D6dzSpB7ZNvc"
      },
      "source": [
        "## Label Encoding"
      ]
    },
    {
      "cell_type": "code",
      "metadata": {
        "id": "1SmsgoepZNvd"
      },
      "source": [
        "def label_encoding(X):\n",
        "    categoricals = X.select_dtypes(include='object')\n",
        "    categoricals = categoricals.astype(str)\n",
        "   \n",
        "    label_ = preprocessing.LabelEncoder()\n",
        "    categoricals = categoricals.apply(label_.fit_transform)\n",
        "    categoricals.reset_index(drop=True, inplace=True)\n",
        "    \n",
        "    original_numeric = X.select_dtypes(include='number')\n",
        "    original_numeric.reset_index(drop=True, inplace=True)\n",
        "    \n",
        "    X = pd.concat([original_numeric, categoricals], axis=1)\n",
        "    return X"
      ],
      "execution_count": null,
      "outputs": []
    },
    {
      "cell_type": "markdown",
      "metadata": {
        "id": "1FD34aVtZNvd"
      },
      "source": [
        "## One hot encoding"
      ]
    },
    {
      "cell_type": "code",
      "metadata": {
        "id": "UqY8dZz_ZNvd"
      },
      "source": [
        "def one_hot_encoding(X):\n",
        "    categoricals = X.select_dtypes(include='object')\n",
        "    categoricals = categoricals.astype(str)\n",
        "   \n",
        "    label_ = preprocessing.LabelEncoder()\n",
        "    categoricals = categoricals.apply(label_.fit_transform)\n",
        "    pickle.dump(label_, open('label.pkl','wb'))\n",
        "\n",
        "    oh = preprocessing.OneHotEncoder()\n",
        "    label_encoding = categoricals['country']\n",
        "    categoricals.drop(['country'], axis=1, inplace=True)\n",
        "    encoded_data = oh.fit_transform(categoricals)\n",
        "    pickle.dump(oh, open('one_hot.pkl','wb'))\n",
        "    encoded_data = pd.DataFrame(encoded_data.todense())\n",
        "    encoded_data.reset_index(drop=True, inplace=True)\n",
        "    categoricals.reset_index(drop=True, inplace=True)\n",
        "    \n",
        "    original_numeric = X.select_dtypes(include='number')\n",
        "    original_numeric.reset_index(drop=True, inplace=True)\n",
        "    \n",
        "    X = pd.concat([original_numeric, encoded_data, label_encoding], axis=1)\n",
        "    return X"
      ],
      "execution_count": null,
      "outputs": []
    },
    {
      "cell_type": "markdown",
      "metadata": {
        "id": "4Mz6ffy6ZNvf"
      },
      "source": [
        "## LDA"
      ]
    },
    {
      "cell_type": "code",
      "metadata": {
        "id": "fqAzygGHZNvf"
      },
      "source": [
        "def x_lda(X):\n",
        "    lda = LDA()\n",
        "    X = lda.fit_transform(X, y)\n",
        "    return X"
      ],
      "execution_count": null,
      "outputs": []
    },
    {
      "cell_type": "markdown",
      "metadata": {
        "id": "mbCoi5EhZNvf"
      },
      "source": [
        "## PCA"
      ]
    },
    {
      "cell_type": "code",
      "metadata": {
        "id": "D9KvII_EK-cW"
      },
      "source": [
        "X = one_hot_encoding(X)"
      ],
      "execution_count": null,
      "outputs": []
    },
    {
      "cell_type": "code",
      "metadata": {
        "id": "zbR7IovHZNvg"
      },
      "source": [
        "pca = PCA()\n",
        "principalComponents = pca.fit_transform(X)\n",
        "plt.figure()\n",
        "plt.plot(np.cumsum(pca.explained_variance_ratio_))\n",
        "plt.xlabel('Number of Components')\n",
        "plt.ylabel('Variance (%)') \n",
        "plt.title('Explained Variance')\n",
        "plt.show()"
      ],
      "execution_count": null,
      "outputs": []
    },
    {
      "cell_type": "code",
      "metadata": {
        "id": "07srZOTUZNvg"
      },
      "source": [
        "def x_pca(X):\n",
        "    pca = PCA(n_components=6)\n",
        "    pca.fit(X)\n",
        "    pickle.dump(pca, open('pca.pkl','wb'))\n",
        "    X = pca.transform(X)\n",
        "\n",
        "    return X"
      ],
      "execution_count": null,
      "outputs": []
    },
    {
      "cell_type": "markdown",
      "metadata": {
        "id": "zN9tkUlTfAkf"
      },
      "source": [
        "## Grid Search"
      ]
    },
    {
      "cell_type": "code",
      "metadata": {
        "id": "SkXqtD_jb-km"
      },
      "source": [
        "def grid_search(model, parameters={}):\r\n",
        "  clf = GridSearchCV(model, parameters, scoring='f1')\r\n",
        "  \r\n",
        "  print(\"{}: \".format(type(model)))\r\n",
        "  clf.fit(Xl_train, yl_train)\r\n",
        "  y_pred = clf.predict(Xl_test)\r\n",
        "  print(\"F1 score for LDA: {}\".format(f1_score(yl_test, y_pred)))\r\n",
        "\r\n",
        "  clf.fit(Xp_train, yp_train)\r\n",
        "  y_pred = clf.predict(Xp_test)\r\n",
        "  print(\"F1 score for PCA: {}\".format(f1_score(yp_test, y_pred)))\r\n",
        "\r\n",
        "  return clf.best_params_"
      ],
      "execution_count": null,
      "outputs": []
    },
    {
      "cell_type": "markdown",
      "metadata": {
        "id": "x-y_lJhwZNvg"
      },
      "source": [
        "## Label Encoding - LDA and PCA"
      ]
    },
    {
      "cell_type": "code",
      "metadata": {
        "id": "-oXKbTjZZNvg"
      },
      "source": [
        "X_label = label_encoding(X)\n",
        "\n",
        "Xl = x_lda(X_label) # lda\n",
        "Xp = x_pca(X_label) # pca"
      ],
      "execution_count": null,
      "outputs": []
    },
    {
      "cell_type": "code",
      "metadata": {
        "id": "LWlqZ-zuZNvh"
      },
      "source": [
        "Xl_train, Xl_test, yl_train, yl_test = train_test_split(Xl, y, test_size=0.40, random_state=42)\n",
        "Xp_train, Xp_test, yp_train, yp_test = train_test_split(Xp, y, test_size=0.40, random_state=42)"
      ],
      "execution_count": null,
      "outputs": []
    },
    {
      "cell_type": "code",
      "metadata": {
        "colab": {
          "base_uri": "https://localhost:8080/"
        },
        "id": "-eDgF3jDZsmd",
        "outputId": "bfb49784-b9a7-4c7d-bbe0-d650a88ad777"
      },
      "source": [
        "Xl_train, yl_train = smote(Xl_train, yl_train)\r\n",
        "Xp_train, yp_train = smote(Xp_train, yp_train)"
      ],
      "execution_count": null,
      "outputs": [
        {
          "output_type": "stream",
          "text": [
            "/usr/local/lib/python3.6/dist-packages/sklearn/utils/deprecation.py:87: FutureWarning: Function safe_indexing is deprecated; safe_indexing is deprecated in version 0.22 and will be removed in version 0.24.\n",
            "  warnings.warn(msg, category=FutureWarning)\n",
            "/usr/local/lib/python3.6/dist-packages/sklearn/utils/deprecation.py:87: FutureWarning: Function safe_indexing is deprecated; safe_indexing is deprecated in version 0.22 and will be removed in version 0.24.\n",
            "  warnings.warn(msg, category=FutureWarning)\n"
          ],
          "name": "stderr"
        }
      ]
    },
    {
      "cell_type": "code",
      "metadata": {
        "id": "Ok1uCr_3uHTk"
      },
      "source": [
        "best = []"
      ],
      "execution_count": null,
      "outputs": []
    },
    {
      "cell_type": "code",
      "metadata": {
        "colab": {
          "base_uri": "https://localhost:8080/"
        },
        "id": "my9c9wI7t6Fp",
        "outputId": "ab3c1fd1-92b4-483b-b1d8-78f0c0f4e434"
      },
      "source": [
        "#Logistic Regression\r\n",
        "parameters = {'class_weight': [\"balanced\"]}\r\n",
        "model = LogisticRegression()\r\n",
        "best.append(grid_search(model, parameters))"
      ],
      "execution_count": null,
      "outputs": [
        {
          "output_type": "stream",
          "text": [
            "<class 'sklearn.linear_model._logistic.LogisticRegression'>: \n",
            "F1 score for LDA: 0.2721311475409836\n",
            "F1 score for PCA: 0.24158459912090358\n"
          ],
          "name": "stdout"
        }
      ]
    },
    {
      "cell_type": "code",
      "metadata": {
        "colab": {
          "base_uri": "https://localhost:8080/"
        },
        "id": "O7IRQP6qt6I-",
        "outputId": "f2f85ff5-8dc6-4944-d1af-f6d3f30e0562"
      },
      "source": [
        "#Decision Tree Classifier\r\n",
        "parameters = {'max_depth': [10, 40, 50, 100, None]}\r\n",
        "model = DecisionTreeClassifier()\r\n",
        "best.append(grid_search(model, parameters))"
      ],
      "execution_count": null,
      "outputs": [
        {
          "output_type": "stream",
          "text": [
            "<class 'sklearn.tree._classes.DecisionTreeClassifier'>: \n",
            "F1 score for LDA: 0.3126173809117296\n",
            "F1 score for PCA: 0.4923030485964383\n"
          ],
          "name": "stdout"
        }
      ]
    },
    {
      "cell_type": "code",
      "metadata": {
        "colab": {
          "base_uri": "https://localhost:8080/"
        },
        "id": "FAWTcIu5t6Mf",
        "outputId": "f8b7fd46-7f3f-4ea0-ae51-06287d44f36f"
      },
      "source": [
        "#Naive Bayes\r\n",
        "parameters = {}\r\n",
        "model = GaussianNB()\r\n",
        "best.append(grid_search(model, parameters))"
      ],
      "execution_count": null,
      "outputs": [
        {
          "output_type": "stream",
          "text": [
            "<class 'sklearn.naive_bayes.GaussianNB'>: \n",
            "F1 score for LDA: 0.2806067943878641\n",
            "F1 score for PCA: 0.27314655469126453\n"
          ],
          "name": "stdout"
        }
      ]
    },
    {
      "cell_type": "code",
      "metadata": {
        "colab": {
          "base_uri": "https://localhost:8080/"
        },
        "id": "Wdmr7sQ6t6PK",
        "outputId": "1357376c-20a1-46c7-b853-94d58b841b34"
      },
      "source": [
        "#Random Forest\r\n",
        "parameters = {'n_estimators': [50, 100, 150], 'max_depth': [None], 'n_jobs': [-1]}\r\n",
        "model = RandomForestClassifier()\r\n",
        "best.append(grid_search(model, parameters))"
      ],
      "execution_count": null,
      "outputs": [
        {
          "output_type": "stream",
          "text": [
            "<class 'sklearn.ensemble._forest.RandomForestClassifier'>: \n",
            "F1 score for LDA: 0.3138967377343951\n",
            "F1 score for PCA: 0.5802650957290133\n"
          ],
          "name": "stdout"
        }
      ]
    },
    {
      "cell_type": "code",
      "metadata": {
        "colab": {
          "base_uri": "https://localhost:8080/"
        },
        "id": "W6mvyDpQufZg",
        "outputId": "9a5a121c-58f7-4f3c-faea-bc1e86d56a6c"
      },
      "source": [
        "#KNN Classifier\r\n",
        "parameters = {'n_neighbors': [2, 3, 4]}\r\n",
        "model = KNeighborsClassifier()\r\n",
        "best.append(grid_search(model, parameters))"
      ],
      "execution_count": null,
      "outputs": [
        {
          "output_type": "stream",
          "text": [
            "<class 'sklearn.neighbors._classification.KNeighborsClassifier'>: \n",
            "F1 score for LDA: 0.3459980713596914\n",
            "F1 score for PCA: 0.47365439093484424\n"
          ],
          "name": "stdout"
        }
      ]
    },
    {
      "cell_type": "code",
      "metadata": {
        "colab": {
          "base_uri": "https://localhost:8080/"
        },
        "id": "P2OyQRmnug16",
        "outputId": "937c9d5a-fb3c-4b09-ac75-171823c4d078"
      },
      "source": [
        "#XGBoost\r\n",
        "parameters = {'n_estimators':[50, 100, 150], 'n_jobs': [-1]}\r\n",
        "model = XGBClassifier()\r\n",
        "best.append(grid_search(model, parameters))"
      ],
      "execution_count": null,
      "outputs": [
        {
          "output_type": "stream",
          "text": [
            "<class 'xgboost.sklearn.XGBClassifier'>: \n",
            "F1 score for LDA: 0.5762588620250862\n",
            "F1 score for PCA: 0.6806075280651552\n"
          ],
          "name": "stdout"
        }
      ]
    },
    {
      "cell_type": "markdown",
      "metadata": {
        "id": "QLuGth4tZNvj"
      },
      "source": [
        "## One Hot encoding - LDA and PCA"
      ]
    },
    {
      "cell_type": "code",
      "metadata": {
        "id": "VmhHmo_iZNvj"
      },
      "source": [
        "X_one = one_hot_encoding(X)\n",
        "\n",
        "Xl = x_lda(X_one) # lda\n",
        "Xp = x_pca(X_one) # pca"
      ],
      "execution_count": null,
      "outputs": []
    },
    {
      "cell_type": "code",
      "metadata": {
        "id": "-wNpKdg-ZNvj"
      },
      "source": [
        "Xl_train, Xl_test, yl_train, yl_test = train_test_split(Xl, y, test_size=0.40, random_state=42)\n",
        "Xp_train, Xp_test, yp_train, yp_test = train_test_split(Xp, y, test_size=0.40, random_state=42)"
      ],
      "execution_count": null,
      "outputs": []
    },
    {
      "cell_type": "code",
      "metadata": {
        "colab": {
          "base_uri": "https://localhost:8080/"
        },
        "id": "w93PttJjakxS",
        "outputId": "5f709d6c-9ca7-48a9-fe7f-83370edf02d2"
      },
      "source": [
        "Xl_train, yl_train = smote(Xl_train, yl_train)\r\n",
        "Xp_train, yp_train = smote(Xp_train, yp_train)"
      ],
      "execution_count": null,
      "outputs": [
        {
          "output_type": "stream",
          "text": [
            "/usr/local/lib/python3.6/dist-packages/sklearn/utils/deprecation.py:87: FutureWarning: Function safe_indexing is deprecated; safe_indexing is deprecated in version 0.22 and will be removed in version 0.24.\n",
            "  warnings.warn(msg, category=FutureWarning)\n",
            "/usr/local/lib/python3.6/dist-packages/sklearn/utils/deprecation.py:87: FutureWarning: Function safe_indexing is deprecated; safe_indexing is deprecated in version 0.22 and will be removed in version 0.24.\n",
            "  warnings.warn(msg, category=FutureWarning)\n"
          ],
          "name": "stderr"
        }
      ]
    },
    {
      "cell_type": "code",
      "metadata": {
        "id": "ymkLGkXau48n"
      },
      "source": [
        "best_1 = []"
      ],
      "execution_count": null,
      "outputs": []
    },
    {
      "cell_type": "code",
      "metadata": {
        "colab": {
          "base_uri": "https://localhost:8080/"
        },
        "id": "HF8rBuBcu48o",
        "outputId": "d1c4001b-a4ef-4de8-8e98-e1c5460190c1"
      },
      "source": [
        "#Logistic Regression\r\n",
        "parameters = {'class_weight': [\"balanced\"]}\r\n",
        "model = LogisticRegression()\r\n",
        "best_1.append(grid_search(model, parameters))"
      ],
      "execution_count": null,
      "outputs": [
        {
          "output_type": "stream",
          "text": [
            "<class 'sklearn.linear_model._logistic.LogisticRegression'>: \n",
            "F1 score for LDA: 0.27085793678360537\n",
            "F1 score for PCA: 0.27061677061677064\n"
          ],
          "name": "stdout"
        }
      ]
    },
    {
      "cell_type": "code",
      "metadata": {
        "colab": {
          "base_uri": "https://localhost:8080/"
        },
        "id": "OFrya3vXu48p",
        "outputId": "c258cca8-d6f8-4d8c-c761-5ae6d25980bf"
      },
      "source": [
        "#Decision Tree Classifier\r\n",
        "parameters = {'max_depth': [10, 40, 50, 100, None]}\r\n",
        "model = DecisionTreeClassifier()\r\n",
        "best_1.append(grid_search(model, parameters))"
      ],
      "execution_count": null,
      "outputs": [
        {
          "output_type": "stream",
          "text": [
            "<class 'sklearn.tree._classes.DecisionTreeClassifier'>: \n",
            "F1 score for LDA: 0.3598777265426662\n",
            "F1 score for PCA: 0.5415453143738223\n"
          ],
          "name": "stdout"
        }
      ]
    },
    {
      "cell_type": "code",
      "metadata": {
        "colab": {
          "base_uri": "https://localhost:8080/"
        },
        "id": "IZ-DXfStu48p",
        "outputId": "12e1cd59-eeb3-4763-8f85-f87671724997"
      },
      "source": [
        "#Naive Bayes\r\n",
        "parameters = {}\r\n",
        "model = GaussianNB()\r\n",
        "best_1.append(grid_search(model, parameters))"
      ],
      "execution_count": null,
      "outputs": [
        {
          "output_type": "stream",
          "text": [
            "<class 'sklearn.naive_bayes.GaussianNB'>: \n",
            "F1 score for LDA: 0.27719714111266747\n",
            "F1 score for PCA: 0.27894832275611964\n"
          ],
          "name": "stdout"
        }
      ]
    },
    {
      "cell_type": "code",
      "metadata": {
        "colab": {
          "base_uri": "https://localhost:8080/"
        },
        "id": "sldVVRT1u48q",
        "outputId": "fcaff33f-4dc4-4b7e-da98-870047871d31"
      },
      "source": [
        "#Random Forest\r\n",
        "parameters = {'n_estimators': [50, 100, 150], 'max_depth': [None], 'n_jobs': [-1]}\r\n",
        "model = RandomForestClassifier()\r\n",
        "best_1.append(grid_search(model, parameters))"
      ],
      "execution_count": null,
      "outputs": [
        {
          "output_type": "stream",
          "text": [
            "<class 'sklearn.ensemble._forest.RandomForestClassifier'>: \n",
            "F1 score for LDA: 0.31352363125877397\n",
            "F1 score for PCA: 0.6668132834836156\n"
          ],
          "name": "stdout"
        }
      ]
    },
    {
      "cell_type": "code",
      "metadata": {
        "colab": {
          "base_uri": "https://localhost:8080/"
        },
        "id": "Mu1iglPfu48q",
        "outputId": "cf86742a-9957-458f-ab44-cb6ab6921d4c"
      },
      "source": [
        "#KNN Classifier\r\n",
        "parameters = {'n_neighbors': [2, 3, 4]}\r\n",
        "model = KNeighborsClassifier()\r\n",
        "best_1.append(grid_search(model, parameters))"
      ],
      "execution_count": null,
      "outputs": [
        {
          "output_type": "stream",
          "text": [
            "<class 'sklearn.neighbors._classification.KNeighborsClassifier'>: \n",
            "F1 score for LDA: 0.3418860698898995\n",
            "F1 score for PCA: 0.4908746686861038\n"
          ],
          "name": "stdout"
        }
      ]
    },
    {
      "cell_type": "code",
      "metadata": {
        "colab": {
          "base_uri": "https://localhost:8080/"
        },
        "id": "PEcBQLbuu48r",
        "outputId": "645c251d-9255-4673-cc3c-6a30356909ed"
      },
      "source": [
        "#XGBoost\r\n",
        "parameters = {'n_estimators':[50, 100, 150], 'n_jobs': [-1]}\r\n",
        "model = XGBClassifier()\r\n",
        "best_1.append(grid_search(model, parameters))"
      ],
      "execution_count": null,
      "outputs": [
        {
          "output_type": "stream",
          "text": [
            "<class 'xgboost.sklearn.XGBClassifier'>: \n",
            "F1 score for LDA: 0.54265565875473\n",
            "F1 score for PCA: 0.6951317758084935\n"
          ],
          "name": "stdout"
        }
      ]
    },
    {
      "cell_type": "markdown",
      "metadata": {
        "id": "3ZaFP0_OZNvk"
      },
      "source": [
        "## Genetic Algorithms"
      ]
    },
    {
      "cell_type": "code",
      "metadata": {
        "colab": {
          "base_uri": "https://localhost:8080/"
        },
        "id": "hv8cGZnEvayj",
        "outputId": "763fde96-9d9f-4120-a723-94207b742863"
      },
      "source": [
        "model = XGBClassifier(n_estimators=150, n_jobs=-1)\r\n",
        "model.fit(Xp_train, yp_train)"
      ],
      "execution_count": null,
      "outputs": [
        {
          "output_type": "execute_result",
          "data": {
            "text/plain": [
              "XGBClassifier(base_score=0.5, booster='gbtree', colsample_bylevel=1,\n",
              "              colsample_bynode=1, colsample_bytree=1, gamma=0,\n",
              "              learning_rate=0.1, max_delta_step=0, max_depth=3,\n",
              "              min_child_weight=1, missing=None, n_estimators=150, n_jobs=-1,\n",
              "              nthread=None, objective='binary:logistic', random_state=0,\n",
              "              reg_alpha=0, reg_lambda=1, scale_pos_weight=1, seed=None,\n",
              "              silent=None, subsample=1, verbosity=1)"
            ]
          },
          "metadata": {
            "tags": []
          },
          "execution_count": 134
        }
      ]
    },
    {
      "cell_type": "code",
      "metadata": {
        "colab": {
          "base_uri": "https://localhost:8080/"
        },
        "id": "6hY5E2nj3s5I",
        "outputId": "980667be-ff81-4c91-8a73-dd12e6f9b6e8"
      },
      "source": [
        "model.classes_"
      ],
      "execution_count": null,
      "outputs": [
        {
          "output_type": "execute_result",
          "data": {
            "text/plain": [
              "array([0, 1])"
            ]
          },
          "metadata": {
            "tags": []
          },
          "execution_count": 135
        }
      ]
    },
    {
      "cell_type": "code",
      "metadata": {
        "id": "UEGlzljAXjXV"
      },
      "source": [
        "model.save_model('xgb.model')"
      ],
      "execution_count": null,
      "outputs": []
    },
    {
      "cell_type": "code",
      "metadata": {
        "id": "e2zFk4UCWJ2p"
      },
      "source": [
        "#defining various steps required for the genetic algorithm\r\n",
        "def initilization_of_population(size, n_feat):\r\n",
        "    population = []\r\n",
        "    for i in range(size):\r\n",
        "        # creating a list with 0 and 1, features are selected when there is 1\r\n",
        "        chromosome = np.ones(n_feat, dtype=np.bool)\r\n",
        "        chromosome[:int(0.3*n_feat)] = False\r\n",
        "        np.random.shuffle(chromosome)\r\n",
        "        population.append(chromosome)\r\n",
        "    return population\r\n",
        "\r\n",
        "def fitness_score(population, X_train, X_test, y_train, y_test):\r\n",
        "    scores = []\r\n",
        "    for chromosome in population:\r\n",
        "        model.fit(X_train.iloc[:, chromosome], y_train)\r\n",
        "        predictions = model.predict(X_test.iloc[:,chromosome])\r\n",
        "        scores.append(f1_score(y_test,predictions))\r\n",
        "    scores, population = np.array(scores), np.array(population) \r\n",
        "    inds = np.argsort(scores)\r\n",
        "    return list(scores[inds][::-1]), list(population[inds,:][::-1])\r\n",
        "\r\n",
        "def selection(pop_after_fit, n_parents):\r\n",
        "    population_nextgen = []\r\n",
        "    for i in range(n_parents):\r\n",
        "        population_nextgen.append(pop_after_fit[i])\r\n",
        "    return population_nextgen\r\n",
        "\r\n",
        "def crossover(pop_after_sel):\r\n",
        "    population_nextgen = pop_after_sel\r\n",
        "    for i in range(len(pop_after_sel)):\r\n",
        "        child = pop_after_sel[i]\r\n",
        "        child[3:7] = pop_after_sel[(i+1)%len(pop_after_sel)][3:7]\r\n",
        "        population_nextgen.append(child)\r\n",
        "    return population_nextgen\r\n",
        "\r\n",
        "def mutation(pop_after_cross, mutation_rate):\r\n",
        "    population_nextgen = []\r\n",
        "    for i in range(0, len(pop_after_cross)):\r\n",
        "        chromosome = pop_after_cross[i]\r\n",
        "        for j in range(len(chromosome)):\r\n",
        "            if random.random() < mutation_rate:\r\n",
        "                chromosome[j]= not chromosome[j]\r\n",
        "        population_nextgen.append(chromosome)\r\n",
        "    return population_nextgen\r\n",
        "\r\n",
        "def generations(size, n_feat, n_parents, mutation_rate, n_gen, X_train, X_test, y_train, y_test):\r\n",
        "    best_chromo= []\r\n",
        "    best_score= []\r\n",
        "    population_nextgen = initilization_of_population(size, n_feat)\r\n",
        "    for i in range(n_gen):\r\n",
        "        scores, pop_after_fit = fitness_score(population_nextgen, X_train, X_test, y_train, y_test)\r\n",
        "        print(\"{0}: {1}\".format(i, scores))\r\n",
        "        pop_after_sel = selection(pop_after_fit, n_parents)\r\n",
        "        pop_after_cross = crossover(pop_after_sel)\r\n",
        "        population_nextgen = mutation(pop_after_cross, mutation_rate)\r\n",
        "        best_chromo.append(pop_after_fit[0])\r\n",
        "        best_score.append(scores[0])\r\n",
        "    return best_chromo,best_score"
      ],
      "execution_count": null,
      "outputs": []
    },
    {
      "cell_type": "code",
      "metadata": {
        "id": "_9ot8oxn0ySx"
      },
      "source": [
        "Xp_train = pd.DataFrame(Xp_train)\r\n",
        "Xp_test = pd.DataFrame(Xp_test)"
      ],
      "execution_count": null,
      "outputs": []
    },
    {
      "cell_type": "code",
      "metadata": {
        "id": "XYwHnh1IkHVw"
      },
      "source": [
        "row, col = Xp_train.shape"
      ],
      "execution_count": null,
      "outputs": []
    },
    {
      "cell_type": "code",
      "metadata": {
        "colab": {
          "base_uri": "https://localhost:8080/"
        },
        "id": "_G5S1OcFXKB5",
        "outputId": "d9e460ee-c829-4801-9f06-5022219628b7"
      },
      "source": [
        "chromo, score = generations(size=20, n_feat=col, n_parents=10, mutation_rate=0.10,\r\n",
        "                     n_gen=5, X_train=Xp_train, X_test=Xp_test, \r\n",
        "                     y_train=yp_train, y_test=yp_test)"
      ],
      "execution_count": null,
      "outputs": [
        {
          "output_type": "stream",
          "text": [
            "0: [0.6973893303064699, 0.6973893303064699, 0.6973893303064699, 0.696165191740413, 0.696165191740413, 0.696165191740413, 0.696165191740413, 0.6955338925413739, 0.6955338925413739, 0.6955338925413739, 0.6955338925413739, 0.6955338925413739, 0.6955338925413739, 0.6940618649808082, 0.6940618649808082, 0.6940618649808082, 0.6940618649808082, 0.5042147986262878, 0.5042147986262878, 0.5042147986262878]\n",
            "1: [0.6964609800362976, 0.6964609800362976, 0.696165191740413, 0.696165191740413, 0.6961451247165532, 0.6961451247165532, 0.6961451247165532, 0.6961451247165532, 0.6961451247165532, 0.6961451247165532, 0.6958295557570262, 0.6958295557570262, 0.6955338925413739, 0.6955338925413739, 0.6955338925413739, 0.6955338925413739, 0.6925332731784345, 0.6925332731784345, 0.48895027624309395, 0.48895027624309395]\n",
            "2: [0.6973893303064699, 0.6973893303064699, 0.6966190152030859, 0.6966190152030859, 0.6964609800362976, 0.6964609800362976, 0.696165191740413, 0.696165191740413, 0.6961451247165532, 0.6961451247165532, 0.6953372566772296, 0.6953372566772296, 0.6895314951804528, 0.6895314951804528, 0.4738789403581471, 0.4738789403581471, 0.4244168433807937, 0.4244168433807937, 0.4244168433807937, 0.4244168433807937]\n",
            "3: [0.6966190152030859, 0.6966190152030859, 0.6964609800362976, 0.6964609800362976, 0.696165191740413, 0.696165191740413, 0.695356738391846, 0.695356738391846, 0.6942372881355932, 0.6942372881355932, 0.6925332731784345, 0.6925332731784345, 0.6908027883966718, 0.6908027883966718, 0.6882971582009397, 0.6882971582009397, 0.490829164771866, 0.490829164771866, 0.3783323189287888, 0.3783323189287888]\n",
            "4: [0.6966190152030859, 0.6966190152030859, 0.6966190152030859, 0.6966190152030859, 0.6964609800362976, 0.6964609800362976, 0.6961451247165532, 0.6961451247165532, 0.6956718785406752, 0.6956718785406752, 0.695356738391846, 0.695356738391846, 0.6895314951804528, 0.6895314951804528, 0.490829164771866, 0.490829164771866, 0.490829164771866, 0.490829164771866, 0.3153686230609307, 0.3153686230609307]\n"
          ],
          "name": "stdout"
        }
      ]
    },
    {
      "cell_type": "code",
      "metadata": {
        "id": "nHsrsU9x0Fkq"
      },
      "source": [
        "model.fit(Xp_train, yp_train)\r\n",
        "predictions = model.predict(Xp_test.iloc[:,chromo[-1]])"
      ],
      "execution_count": null,
      "outputs": []
    },
    {
      "cell_type": "code",
      "metadata": {
        "colab": {
          "base_uri": "https://localhost:8080/"
        },
        "id": "TEAqxfzs0tqO",
        "outputId": "e873d8eb-5412-4709-864b-ccebc9dbf7ec"
      },
      "source": [
        "chromo[-1]"
      ],
      "execution_count": null,
      "outputs": [
        {
          "output_type": "execute_result",
          "data": {
            "text/plain": [
              "array([False,  True,  True,  True,  True,  True])"
            ]
          },
          "metadata": {
            "tags": []
          },
          "execution_count": 168
        }
      ]
    },
    {
      "cell_type": "code",
      "metadata": {
        "colab": {
          "base_uri": "https://localhost:8080/"
        },
        "id": "NZQTmihzpOJ4",
        "outputId": "5f2770ad-bc4f-42a9-fc00-00a544adcb69"
      },
      "source": [
        "roc_auc_score(yp_test, predictions)"
      ],
      "execution_count": null,
      "outputs": [
        {
          "output_type": "execute_result",
          "data": {
            "text/plain": [
              "0.7686296203007063"
            ]
          },
          "metadata": {
            "tags": []
          },
          "execution_count": 169
        }
      ]
    },
    {
      "cell_type": "code",
      "metadata": {
        "id": "FGgKu_6r5JS6"
      },
      "source": [
        ""
      ],
      "execution_count": null,
      "outputs": []
    }
  ]
}